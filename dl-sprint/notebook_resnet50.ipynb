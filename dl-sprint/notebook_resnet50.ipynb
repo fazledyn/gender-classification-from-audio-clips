{
 "cells": [
  {
   "cell_type": "code",
   "execution_count": 1,
   "metadata": {},
   "outputs": [],
   "source": [
    "# from google.colab import drive\n",
    "# drive.mount(\"/content/drive\")"
   ]
  },
  {
   "cell_type": "code",
   "execution_count": 2,
   "metadata": {},
   "outputs": [],
   "source": [
    "import cv2\n",
    "import keras\n",
    "import tensorflow\n",
    "import pandas as pd\n",
    "import numpy as np\n",
    "import matplotlib.pyplot as plt\n",
    "\n",
    "from keras.utils import Sequence\n",
    "from tqdm import tqdm\n",
    "from keras.optimizers import Adam\n",
    "from keras.models import Sequential\n",
    "from keras.layers import Dense, Conv2D, MaxPool2D, Flatten\n",
    "\n",
    "from sklearn.model_selection import train_test_split\n",
    "from sklearn.metrics import classification_report, ConfusionMatrixDisplay, confusion_matrix"
   ]
  },
  {
   "cell_type": "code",
   "execution_count": 3,
   "metadata": {},
   "outputs": [],
   "source": [
    "# image = cv2.imread(\"./dls-train-balanced/common_voice_bn_30614357.png\")\n",
    "# print(image.shape)\n",
    "# BASE_DIR = \"./drive/MyDrive/ml-project/dl-sprint\"\n",
    "n_epochs = 10\n",
    "batch_size = 32\n",
    "image_shape = (374, 500, 3)\n",
    "base_dir = \"./dls-train-balanced\""
   ]
  },
  {
   "cell_type": "code",
   "execution_count": 4,
   "metadata": {},
   "outputs": [],
   "source": [
    "class DataGenerator(Sequence):\n",
    "\n",
    "    def __init__(self, X, y, base_dir, batch_size, n_class, shuffle=False):\n",
    "        self.X = X\n",
    "        self.y = y\n",
    "        self.n_class = n_class\n",
    "        self.shuffle = shuffle\n",
    "        self.base_dir = base_dir\n",
    "        self.batch_size = batch_size\n",
    "        self.on_epoch_end()\n",
    "\n",
    "    def on_epoch_end(self):\n",
    "        self.indexes = np.arange(len(self.y))\n",
    "        if self.shuffle:\n",
    "            np.random.shuffle(self.indexes)\n",
    "\n",
    "    def __len__(self):\n",
    "        assert len(self.X) == len(self.y)\n",
    "        return int(np.floor(len(self.y)/self.batch_size))\n",
    "\n",
    "    def __getitem__(self, index):\n",
    "        X_batch = self.X[index*self.batch_size : (index+1)*self.batch_size]\n",
    "        y_batch = self.y[index*self.batch_size : (index+1)*self.batch_size]\n",
    "\n",
    "        X = self.__data_generation(X_batch)\n",
    "        y = keras.utils.to_categorical(y_batch, num_classes=self.n_class)\n",
    "        return X, y\n",
    "\n",
    "    def __data_generation(self, X_img):\n",
    "        X = []\n",
    "        for file in X_img:\n",
    "            t = cv2.imread(f\"{self.base_dir}/{file}\", cv2.COLOR_BGR2RGB)\n",
    "            X.append(t)\n",
    "        return np.asarray(X)"
   ]
  },
  {
   "cell_type": "code",
   "execution_count": 3,
   "metadata": {},
   "outputs": [
    {
     "name": "stdout",
     "output_type": "stream",
     "text": [
      "Downloading data from https://storage.googleapis.com/tensorflow/keras-applications/resnet/resnet50_weights_tf_dim_ordering_tf_kernels.h5\n",
      "102967424/102967424 [==============================] - 71s 1us/step\n"
     ]
    },
    {
     "ename": "TypeError",
     "evalue": "Model.build() missing 1 required positional argument: 'input_shape'",
     "output_type": "error",
     "traceback": [
      "\u001b[1;31m---------------------------------------------------------------------------\u001b[0m",
      "\u001b[1;31mTypeError\u001b[0m                                 Traceback (most recent call last)",
      "Cell \u001b[1;32mIn [3], line 4\u001b[0m\n\u001b[0;32m      1\u001b[0m \u001b[39m#@title Model Creation\u001b[39;00m\n\u001b[0;32m      2\u001b[0m model \u001b[39m=\u001b[39m tensorflow\u001b[39m.\u001b[39mkeras\u001b[39m.\u001b[39mapplications\u001b[39m.\u001b[39mresnet50\u001b[39m.\u001b[39mResNet50()\n\u001b[1;32m----> 4\u001b[0m model\u001b[39m.\u001b[39;49mbuild()\n\u001b[0;32m      5\u001b[0m model\u001b[39m.\u001b[39msummary()\n\u001b[0;32m      7\u001b[0m adam \u001b[39m=\u001b[39m Adam(learning_rate\u001b[39m=\u001b[39m\u001b[39m0.0001\u001b[39m)\n",
      "\u001b[1;31mTypeError\u001b[0m: Model.build() missing 1 required positional argument: 'input_shape'"
     ]
    }
   ],
   "source": [
    "#@title Model Creation\n",
    "model = tensorflow.keras.applications.resnet50.ResNet50(weights=None, input_shape=image_shape)\n",
    "\n",
    "model.build()\n",
    "model.summary()\n",
    "\n",
    "adam = Adam(learning_rate=0.0001)\n",
    "model.compile(loss=\"categorical_crossentropy\", metrics=[\"accuracy\"], optimizer=adam)"
   ]
  },
  {
   "cell_type": "code",
   "execution_count": 6,
   "metadata": {},
   "outputs": [
    {
     "name": "stdout",
     "output_type": "stream",
     "text": [
      "Dataset and Image Loaded\n",
      "X_train: 15304 \tX_test: 3826\n",
      "y_train: 15304 \ty_test: 3826\n"
     ]
    }
   ],
   "source": [
    "df = pd.read_csv(\"./dls-train-balanced.csv\")\n",
    "\n",
    "X = df[\"imgname\"]\n",
    "y = df[\"label\"]\n",
    "\n",
    "X_train, X_test, y_train, y_test = train_test_split(X, y, test_size=0.2)\n",
    "\n",
    "print(\"Dataset and Image Loaded\")\n",
    "print(\"X_train:\", len(X_train), \"\\tX_test:\",  len(X_test))\n",
    "print(\"y_train:\", len(y_train), \"\\ty_test:\",  len(y_test))"
   ]
  },
  {
   "cell_type": "code",
   "execution_count": 7,
   "metadata": {
    "tags": []
   },
   "outputs": [
    {
     "name": "stdout",
     "output_type": "stream",
     "text": [
      "478/478 [==============================] - 1871s 4s/step - loss: 5.4536 - accuracy: 0.9113 - val_loss: 0.2143 - val_accuracy: 0.9535\n"
     ]
    },
    {
     "data": {
      "text/plain": [
       "<keras.callbacks.History at 0x1a6a6e7dfc0>"
      ]
     },
     "execution_count": 7,
     "metadata": {},
     "output_type": "execute_result"
    }
   ],
   "source": [
    "#@title Model Training\n",
    "\n",
    "train_gen = DataGenerator(X_train, y_train, base_dir=base_dir, n_class=2, batch_size=batch_size)\n",
    "test_gen  = DataGenerator(X_test,  y_test,  base_dir=base_dir, n_class=2, batch_size=batch_size)\n",
    "\n",
    "model.fit(train_gen, validation_data=test_gen, verbose=1)"
   ]
  },
  {
   "cell_type": "code",
   "execution_count": 35,
   "metadata": {},
   "outputs": [
    {
     "name": "stdout",
     "output_type": "stream",
     "text": [
      "119/119 [==============================] - 78s 658ms/step\n",
      "[[0. 1.]\n",
      " [0. 1.]\n",
      " [1. 0.]\n",
      " ...\n",
      " [1. 0.]\n",
      " [0. 1.]\n",
      " [1. 0.]]\n"
     ]
    }
   ],
   "source": [
    "#@title Model Prediction\n",
    "y_pred = model.predict(test_gen)\n",
    "y_pred = np.round(y_pred)\n",
    "\n",
    "print(y_pred)\n",
    "# y_pred = np.argmax(y_pred, axis=1)\n",
    "# y_test = np.argmax(y_test, axis=1)"
   ]
  },
  {
   "cell_type": "code",
   "execution_count": 37,
   "metadata": {},
   "outputs": [
    {
     "name": "stdout",
     "output_type": "stream",
     "text": [
      "[1 1 0 ... 0 1 0]\n"
     ]
    }
   ],
   "source": [
    "y_pred_arg = np.argmax(y_pred, axis=1)\n",
    "print(y_pred_arg)"
   ]
  },
  {
   "cell_type": "code",
   "execution_count": 38,
   "metadata": {},
   "outputs": [
    {
     "name": "stdout",
     "output_type": "stream",
     "text": [
      "              precision    recall  f1-score   support\n",
      "\n",
      "           0       0.93      0.98      0.95      1901\n",
      "           1       0.98      0.92      0.95      1907\n",
      "\n",
      "    accuracy                           0.95      3808\n",
      "   macro avg       0.96      0.95      0.95      3808\n",
      "weighted avg       0.96      0.95      0.95      3808\n",
      "\n"
     ]
    },
    {
     "data": {
      "image/png": "[encoded data removed]",
      "text/plain": [
       "<Figure size 640x480 with 2 Axes>"
      ]
     },
     "metadata": {},
     "output_type": "display_data"
    }
   ],
   "source": [
    "y_test = y_test[:3808]\n",
    "\n",
    "report = classification_report(y_true=y_test, y_pred=y_pred_arg)\n",
    "print(report)\n",
    "\n",
    "conf_mat = confusion_matrix(y_test, y_pred_arg)\n",
    "conf_dis = ConfusionMatrixDisplay(conf_mat)\n",
    "conf_dis.plot()\n",
    "plt.show()"
   ]
  }
 ],
 "metadata": {
  "kernelspec": {
   "display_name": "Python 3",
   "language": "python",
   "name": "python3"
  },
  "language_info": {
   "codemirror_mode": {
    "name": "ipython",
    "version": 3
   },
   "file_extension": ".py",
   "mimetype": "text/x-python",
   "name": "python",
   "nbconvert_exporter": "python",
   "pygments_lexer": "ipython3",
   "version": "3.10.6"
  },
  "orig_nbformat": 4,
  "vscode": {
   "interpreter": {
    "hash": "bb633a12d11dc30df434576630afc913d986dae57cb6c8dd3204b88aa52721e0"
   }
  }
 },
 "nbformat": 4,
 "nbformat_minor": 2
}
