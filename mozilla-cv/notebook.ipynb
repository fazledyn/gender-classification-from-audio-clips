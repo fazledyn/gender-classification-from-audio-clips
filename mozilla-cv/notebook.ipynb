{
 "cells": [
  {
   "cell_type": "code",
   "execution_count": 1,
   "metadata": {},
   "outputs": [],
   "source": [
    "# from google.colab import drive\n",
    "# drive.mount(\"/content/drive\")\n",
    "\n",
    "# BASE_DIR = \"./drive/MyDrive/ml-project/dl-sprint\""
   ]
  },
  {
   "cell_type": "code",
   "execution_count": 2,
   "metadata": {},
   "outputs": [],
   "source": [
    "import cv2\n",
    "import keras\n",
    "import pandas as pd\n",
    "import numpy as np\n",
    "import matplotlib.pyplot as plt\n",
    "\n",
    "from tqdm import tqdm\n",
    "from keras.optimizers import Adam\n",
    "from keras.models import Sequential\n",
    "from keras.layers import Dense, Conv2D, MaxPool2D, Flatten\n",
    "\n",
    "from sklearn.model_selection import train_test_split\n",
    "from sklearn.metrics import confusion_matrix, ConfusionMatrixDisplay"
   ]
  },
  {
   "cell_type": "code",
   "execution_count": 3,
   "metadata": {},
   "outputs": [
    {
     "name": "stdout",
     "output_type": "stream",
     "text": [
      "(374, 500, 3)\n"
     ]
    }
   ],
   "source": [
    "image = cv2.imread(\"./cv-dev-balanced/other_dev_sample-000004.png\")\n",
    "print(image.shape)"
   ]
  },
  {
   "cell_type": "code",
   "execution_count": 4,
   "metadata": {},
   "outputs": [
    {
     "name": "stdout",
     "output_type": "stream",
     "text": [
      "Model: \"sequential\"\n",
      "_________________________________________________________________\n",
      " Layer (type)                Output Shape              Param #   \n",
      "=================================================================\n",
      " conv2d (Conv2D)             (None, 370, 496, 32)      2432      \n",
      "                                                                 \n",
      " max_pooling2d (MaxPooling2D  (None, 185, 248, 32)     0         \n",
      " )                                                               \n",
      "                                                                 \n",
      " conv2d_1 (Conv2D)           (None, 181, 244, 48)      38448     \n",
      "                                                                 \n",
      " max_pooling2d_1 (MaxPooling  (None, 90, 122, 48)      0         \n",
      " 2D)                                                             \n",
      "                                                                 \n",
      " flatten (Flatten)           (None, 527040)            0         \n",
      "                                                                 \n",
      " dense (Dense)               (None, 256)               134922496 \n",
      "                                                                 \n",
      " dense_1 (Dense)             (None, 84)                21588     \n",
      "                                                                 \n",
      " dense_2 (Dense)             (None, 2)                 170       \n",
      "                                                                 \n",
      "=================================================================\n",
      "Total params: 134,985,134\n",
      "Trainable params: 134,985,134\n",
      "Non-trainable params: 0\n",
      "_________________________________________________________________\n",
      "Model built and optimizer added\n"
     ]
    }
   ],
   "source": [
    "#@title Model Creation\n",
    "model = Sequential()\n",
    "model.add(Conv2D(filters=32, kernel_size=(5,5), activation=\"relu\", input_shape=image.shape))\n",
    "model.add(MaxPool2D(strides=2))\n",
    "model.add(Conv2D(filters=48, kernel_size=(5,5), padding=\"valid\", activation=\"relu\"))\n",
    "model.add(MaxPool2D(strides=2))\n",
    "model.add(Flatten())\n",
    "model.add(Dense(256, activation=\"relu\"))\n",
    "model.add(Dense(84, activation=\"relu\"))\n",
    "model.add(Dense(2, activation=\"softmax\"))\n",
    "\n",
    "model.build()\n",
    "model.summary()\n",
    "\n",
    "adam = Adam(learning_rate=0.0001)\n",
    "model.compile(loss=\"categorical_crossentropy\", metrics=[\"accuracy\"], optimizer=adam)\n",
    "\n",
    "print(\"Model built and optimizer added\")"
   ]
  },
  {
   "cell_type": "code",
   "execution_count": 5,
   "metadata": {},
   "outputs": [
    {
     "name": "stderr",
     "output_type": "stream",
     "text": [
      "100%|██████████| 1404/1404 [00:14<00:00, 99.02it/s] \n"
     ]
    },
    {
     "name": "stdout",
     "output_type": "stream",
     "text": [
      "1404 Image Loaded into Memory\n",
      "Dataset and Image Loaded\n",
      "X_train: 1123\n",
      "y_train: 1123\n",
      "X_test: 281\n",
      "y_test: 281\n",
      "Dataset and Image Loaded\n"
     ]
    }
   ],
   "source": [
    "df = pd.read_csv(\"./cv-dev-balanced.csv\")\n",
    "\n",
    "X = df[\"imgname\"]\n",
    "y = df[\"label\"]\n",
    "\n",
    "X_imgname = X.values\n",
    "X_img = []\n",
    "lim = len(X)\n",
    "\n",
    "for i in tqdm(range(lim)):\n",
    "  X_img.append(cv2.imread(f\"./cv-dev-balanced/{X_imgname[i]}\"))\n",
    "\n",
    "print(f\"{lim} Image Loaded into Memory\")\n",
    "\n",
    "# X = [ cv2.imread(f\"{BASE_DIR}/dls-clean-8001/{filename}\") for filename in X ]\n",
    "X = np.array(X_img)\n",
    "X_train, X_test, y_train, y_test = train_test_split(X, y, test_size=0.2)\n",
    "\n",
    "y_train = keras.utils.to_categorical(y_train, num_classes=2)\n",
    "y_test = keras.utils.to_categorical(y_test, num_classes=2)\n",
    "\n",
    "print(\"Dataset and Image Loaded\")\n",
    "\n",
    "print(\"X_train:\", len(X_train))\n",
    "print(\"y_train:\", len(y_train))\n",
    "\n",
    "print(\"X_test:\",  len(X_test))\n",
    "print(\"y_test:\",  len(y_test))\n",
    "\n",
    "print(\"Dataset and Image Loaded\")"
   ]
  },
  {
   "cell_type": "code",
   "execution_count": 6,
   "metadata": {
    "tags": []
   },
   "outputs": [
    {
     "name": "stdout",
     "output_type": "stream",
     "text": [
      "Epoch 1/10\n",
      "36/36 [==============================] - 134s 4s/step - loss: 111.6042 - accuracy: 0.5699\n",
      "Epoch 2/10\n",
      "36/36 [==============================] - 135s 4s/step - loss: 2.6859 - accuracy: 0.8050\n",
      "Epoch 3/10\n",
      "36/36 [==============================] - 131s 4s/step - loss: 1.1314 - accuracy: 0.8940\n",
      "Epoch 4/10\n",
      "36/36 [==============================] - 127s 4s/step - loss: 0.3997 - accuracy: 0.9510\n",
      "Epoch 5/10\n",
      "36/36 [==============================] - 126s 3s/step - loss: 0.1147 - accuracy: 0.9777\n",
      "Epoch 6/10\n",
      "36/36 [==============================] - 130s 4s/step - loss: 0.1026 - accuracy: 0.9822\n",
      "Epoch 7/10\n",
      "36/36 [==============================] - 127s 4s/step - loss: 0.0530 - accuracy: 0.9884\n",
      "Epoch 8/10\n",
      "36/36 [==============================] - 127s 4s/step - loss: 0.0162 - accuracy: 0.9955\n",
      "Epoch 9/10\n",
      "36/36 [==============================] - 126s 4s/step - loss: 0.0224 - accuracy: 0.9938\n",
      "Epoch 10/10\n",
      "36/36 [==============================] - 126s 4s/step - loss: 0.0477 - accuracy: 0.9902\n"
     ]
    },
    {
     "data": {
      "text/plain": [
       "<keras.callbacks.History at 0x142368be3b0>"
      ]
     },
     "execution_count": 6,
     "metadata": {},
     "output_type": "execute_result"
    }
   ],
   "source": [
    "#@title Model Training\n",
    "model.fit(x=X_train, y=y_train, batch_size=32, epochs=10)"
   ]
  },
  {
   "cell_type": "code",
   "execution_count": 7,
   "metadata": {},
   "outputs": [
    {
     "name": "stdout",
     "output_type": "stream",
     "text": [
      "9/9 [==============================] - 5s 563ms/step\n"
     ]
    },
    {
     "data": {
      "image/png": "[encoded data removed]",
      "text/plain": [
       "<Figure size 640x480 with 2 Axes>"
      ]
     },
     "metadata": {},
     "output_type": "display_data"
    }
   ],
   "source": [
    "#@title Model Prediction\n",
    "y_pred = model.predict(X_test)\n",
    "y_pred = np.round(y_pred)\n",
    "\n",
    "y_pred = np.argmax(y_pred, axis=1)\n",
    "y_test = np.argmax(y_test, axis=1)\n",
    "\n",
    "conf_mat = confusion_matrix(y_test, y_pred)\n",
    "conf_dis = ConfusionMatrixDisplay(conf_mat)\n",
    "conf_dis.plot()\n",
    "plt.show()"
   ]
  },
  {
   "cell_type": "code",
   "execution_count": 8,
   "metadata": {},
   "outputs": [
    {
     "name": "stderr",
     "output_type": "stream",
     "text": [
      "WARNING:absl:Found untraced functions such as _jit_compiled_convolution_op, _jit_compiled_convolution_op while saving (showing 2 of 2). These functions will not be directly callable after loading.\n"
     ]
    },
    {
     "name": "stdout",
     "output_type": "stream",
     "text": [
      "INFO:tensorflow:Assets written to: cv-dev-balanced.model\\assets\n"
     ]
    },
    {
     "name": "stderr",
     "output_type": "stream",
     "text": [
      "INFO:tensorflow:Assets written to: cv-dev-balanced.model\\assets\n"
     ]
    }
   ],
   "source": [
    "model.save(\"cv-dev-balanced.model\")"
   ]
  }
 ],
 "metadata": {
  "kernelspec": {
   "display_name": "Python 3",
   "language": "python",
   "name": "python3"
  },
  "language_info": {
   "codemirror_mode": {
    "name": "ipython",
    "version": 3
   },
   "file_extension": ".py",
   "mimetype": "text/x-python",
   "name": "python",
   "nbconvert_exporter": "python",
   "pygments_lexer": "ipython3",
   "version": "3.10.6"
  },
  "orig_nbformat": 4,
  "vscode": {
   "interpreter": {
    "hash": "bb633a12d11dc30df434576630afc913d986dae57cb6c8dd3204b88aa52721e0"
   }
  }
 },
 "nbformat": 4,
 "nbformat_minor": 2
}
